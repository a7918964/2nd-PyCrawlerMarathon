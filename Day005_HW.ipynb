{
 "cells": [
  {
   "cell_type": "markdown",
   "metadata": {},
   "source": [
    "# API 資料串接 - 以 Dcard API 實作範例\n",
    "\n",
    "* 了解 Dcard API 使用方式與回傳內容\n",
    "* 撰寫程式存取 API 且解析 JSON 格式資料\n"
   ]
  },
  {
   "cell_type": "markdown",
   "metadata": {},
   "source": [
    "## 作業目標\n",
    "\n",
    "* 請利用 API: https://www.dcard.tw/_api/forums/pet/posts?popular=true 回答下列問題：\n",
    "\n",
    "1. 這個 API 一次會回傳幾筆資料？每一筆資料包含哪些欄位？\n",
    "2. 取出每一筆資料的「標題」、「貼文時間」、「留言人數」、「按讚人數」\n",
    "3. 計算熱門/非熱門文章的「平均留言人數」與「平均按讚人數」"
   ]
  },
  {
   "cell_type": "code",
   "execution_count": 1,
   "metadata": {},
   "outputs": [
    {
     "data": {
      "text/plain": [
       "'\\nYour Code\\n'"
      ]
     },
     "execution_count": 1,
     "metadata": {},
     "output_type": "execute_result"
    }
   ],
   "source": [
    "# 1. 這個 API 一次會回傳幾筆資料？每一筆資料包含哪些欄位？\n",
    "30筆資料\n",
    "\"id\",\"title\",\"excerpt\",\"anonymousSchool\",\"anonymousDepartment\",\"pinned\",\"forumId\",\"replyId\",\"createdAt\":\"2020-03-24T05:37:24.797Z\",\"updatedAt\",\"commentCount\",\"likeCount\",\"withNickname\",\"tags\",\"topics\",\"meta\",\"forumName\",\"forumAlias\"\"pet\",\"gender\",\"school\",\"replyTitle\",\"mediaMeta\""
   ]
  },
  {
   "cell_type": "code",
   "execution_count": 13,
   "metadata": {},
   "outputs": [
    {
     "name": "stdout",
     "output_type": "stream",
     "text": [
      "海科大虐狗的金同學 2020-03-24T05:37:24.797Z 57 613\n",
      "我家有一隻小豬 2020-03-24T06:26:34.064Z 12 195\n",
      "我的哈姆太郎🐹 啪兔 2020-03-24T06:07:12.629Z 5 45\n",
      "小黑貓求包養這麼難嗎？ 2020-03-24T08:49:20.786Z 8 32\n",
      "尋找主人！被丟包的法鬥在等你 2020-03-24T11:48:45.000Z 0 28\n",
      "偽裝成貓咪的👶🏻 2020-03-24T07:31:09.464Z 1 28\n",
      "饅頭手 2020-03-25T00:15:25.123Z 3 23\n",
      "每天都想讓我早點回家的原因🥰 2020-03-24T17:48:26.325Z 1 22\n",
      "流浪貓的爸爸 2020-03-24T12:44:01.479Z 3 22\n",
      "這七天 好長、好久 2020-03-25T05:20:18.528Z 6 21\n",
      "求這隻貓的哀居 2020-03-25T00:35:47.236Z 3 20\n",
      "生活小樂趣🤪 2020-03-24T16:46:16.372Z 1 18\n",
      "可愛可恨的米克斯❤️#圖 2020-03-25T01:56:16.504Z 12 17\n",
      "從湯圓變饅頭的故事 2020-03-25T07:11:49.910Z 5 15\n",
      "你家球蟒也便秘嗎？來！ 我教你 2020-03-25T01:55:20.252Z 4 11\n",
      "請問這是什麼烏龜 2020-03-24T14:23:57.577Z 8 10\n",
      "哈姆太郎日常生活🐹 2020-03-24T17:15:10.042Z 0 9\n",
      "現在知道為什麼要搶購衛生紙了⋯ 2020-03-24T15:39:42.487Z 4 9\n",
      "今天是International Chinchilla Day 2020-03-24T03:21:34.281Z 3 9\n",
      "有需要這樣嗎... 2020-03-24T15:09:15.620Z 0 8\n",
      "#圖，我是三腳，我生病了（文長） 2020-03-24T13:27:56.968Z 2 8\n",
      "#圖多 戲精貓的小時候 走經就開始厭世 2020-03-24T12:57:19.912Z 1 8\n",
      "狗改不了吃屎 2020-03-24T12:28:57.329Z 3 8\n",
      "花橘子-2 2020-03-24T12:01:45.483Z 0 8\n",
      "過動貓帶頭套的日常#圖多 2020-03-24T03:34:17.131Z 2 8\n",
      "愛撒嬌會飛來找主人的文鳥 2020-03-25T03:20:34.469Z 4 7\n",
      "是不是該學學美姿美儀呢：） 2020-03-24T16:09:10.570Z 0 7\n",
      "要不要回家了（懶狗影片） 2020-03-24T16:34:59.647Z 0 6\n",
      "混種黑柴 跨啥小啦🐶 2020-03-25T05:36:17.737Z 0 5\n",
      "龍貓日常 2020-03-24T16:53:02.569Z 3 5\n"
     ]
    }
   ],
   "source": [
    "# 2. 取出每一筆資料的「標題」、「貼文時間」、「留言人數」、「按讚人數」\n",
    "import requests\n",
    "r = requests.get('https://www.dcard.tw/_api/forums/pet/posts?popular=true')\n",
    "response = r.text\n",
    "import json\n",
    "data = json.loads(response)\n",
    "for d in data:\n",
    "    print(d['title'],d['createdAt'], d['commentCount'],d['likeCount'])"
   ]
  },
  {
   "cell_type": "code",
   "execution_count": 19,
   "metadata": {},
   "outputs": [
    {
     "name": "stdout",
     "output_type": "stream",
     "text": [
      "5.033333333333333 40.833333333333336\n",
      "2.033333333333333 7.433333333333334\n"
     ]
    }
   ],
   "source": [
    "# 3. 計算熱門/非熱門文章的「平均留言人數」與「平均按讚人數」\n",
    "commentCount = 0\n",
    "likeCount = 0\n",
    "for d in data:\n",
    "    commentCount += d['commentCount']\n",
    "    likeCount += d['likeCount']\n",
    "print(commentCount/len(data) , likeCount/len(data) )\n",
    "\n",
    "r = requests.get('https://www.dcard.tw/_api/forums/pet/posts?popular=false')\n",
    "response = r.text\n",
    "data = json.loads(response)\n",
    "commentCount = 0\n",
    "likeCount = 0\n",
    "for d in data:\n",
    "    commentCount += d['commentCount']\n",
    "    likeCount += d['likeCount']\n",
    "print(commentCount/len(data) , likeCount/len(data) )"
   ]
  },
  {
   "cell_type": "code",
   "execution_count": null,
   "metadata": {},
   "outputs": [],
   "source": []
  },
  {
   "cell_type": "code",
   "execution_count": null,
   "metadata": {},
   "outputs": [],
   "source": []
  }
 ],
 "metadata": {
  "kernelspec": {
   "display_name": "Python 3",
   "language": "python",
   "name": "python3"
  },
  "language_info": {
   "codemirror_mode": {
    "name": "ipython",
    "version": 3
   },
   "file_extension": ".py",
   "mimetype": "text/x-python",
   "name": "python",
   "nbconvert_exporter": "python",
   "pygments_lexer": "ipython3",
   "version": "3.7.4"
  }
 },
 "nbformat": 4,
 "nbformat_minor": 2
}
